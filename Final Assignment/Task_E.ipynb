{
 "cells": [
  {
   "cell_type": "code",
   "execution_count": null,
   "id": "d1df701c",
   "metadata": {},
   "outputs": [],
   "source": [
    "'''Insights\n",
    "Hit Movies = Household Dynamics & Space\n",
    "Our topic modeling found that these two topics were\n",
    "common among our hit movies. Also doesn't hurt if your\n",
    "genre is Action, Horror, or Comedy.\n",
    "\n",
    "People focus more on the technical aspects of the movie\n",
    "when they dislike a movie\n",
    "Flop Movies = Technical Aspects\n",
    "\n",
    "Sentiment Score Threshold\n",
    "I found that hit movies have a post-release sentiment\n",
    "score threshold greater than .15\n",
    "\n",
    "Sentiment Score Predict Rating\n",
    "I found we could closely predict the rating of the movie\n",
    "based on its sentiment score'''\n",
    "\n",
    "\n",
    "'''Limitations\n",
    "Small Sample\n",
    "Small Sample size as we were limited to recent data on\n",
    "movies\n",
    "\n",
    "Seasonality\n",
    "Seasonality may also affect the topics as it is holiday\n",
    "season and we tend to see more family friendly movies\n",
    "released around this time\n",
    "\n",
    "Domestic Movies\n",
    "Only focused on Domestic Movies no international ones'''"
   ]
  }
 ],
 "metadata": {
  "kernelspec": {
   "display_name": "Python 3 (ipykernel)",
   "language": "python",
   "name": "python3"
  },
  "language_info": {
   "codemirror_mode": {
    "name": "ipython",
    "version": 3
   },
   "file_extension": ".py",
   "mimetype": "text/x-python",
   "name": "python",
   "nbconvert_exporter": "python",
   "pygments_lexer": "ipython3",
   "version": "3.7.3"
  }
 },
 "nbformat": 4,
 "nbformat_minor": 5
}
