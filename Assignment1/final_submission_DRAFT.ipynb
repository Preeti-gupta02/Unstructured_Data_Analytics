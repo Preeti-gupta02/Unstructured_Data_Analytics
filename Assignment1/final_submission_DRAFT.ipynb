{
 "cells": [
  {
   "cell_type": "markdown",
   "metadata": {},
   "source": [
    "## Assignment 1\n",
    "### Author:\n",
    "Preeti Gupta"
   ]
  },
  {
   "cell_type": "markdown",
   "metadata": {},
   "source": [
    "*Misc Items to include*\n",
    "1. Which forum you chose (provide URL) \n",
    "2. Which 10 brands you chose – provide the frequency table\n",
    "3. Show all lift calculations in a table. \n",
    "4. MDS map \n",
    "5. State the 5 attributes you chose (again, a table is good here). \n",
    "6. For task E, provide all details of your analysis – e.g., how you measured “aspirational” and how you found the most aspirational brand.  \n",
    "7. Advice/insights based on your analysis for your client. "
   ]
  },
  {
   "cell_type": "code",
   "execution_count": 4,
   "metadata": {},
   "outputs": [
    {
     "name": "stderr",
     "output_type": "stream",
     "text": [
      "[nltk_data] Downloading package stopwords to\n",
      "[nltk_data]     C:\\Users\\jloes\\AppData\\Roaming\\nltk_data...\n",
      "[nltk_data]   Package stopwords is already up-to-date!\n"
     ]
    },
    {
     "data": {
      "text/plain": [
       "True"
      ]
     },
     "execution_count": 4,
     "metadata": {},
     "output_type": "execute_result"
    }
   ],
   "source": [
    "## Imports\n",
    "import pandas as pd\n",
    "import numpy as np\n",
    "from bs4 import BeautifulSoup\n",
    "from tqdm import tqdm\n",
    "from nltk.corpus import stopwords\n",
    "from nltk.tokenize import word_tokenize\n",
    "import matplotlib.pyplot as plt\n",
    "from statistics import mean\n",
    "from sklearn.manifold import MDS\n",
    "import sklearn.datasets as dt\n",
    "import seaborn as sns\n",
    "from sklearn.metrics.pairwise import manhattan_distances, euclidean_distances\n",
    "from matplotlib.offsetbox import OffsetImage, AnnotationBbox\n",
    "import os\n",
    "import re\n",
    "import nltk\n",
    "import requests\n",
    "nltk.download('stopwords')"
   ]
  },
  {
   "cell_type": "code",
   "execution_count": 5,
   "metadata": {},
   "outputs": [],
   "source": [
    "import os, ssl\n",
    "if (not os.environ.get('PYTHONHTTPSVERIFY', '') and\n",
    "getattr(ssl, '_create_unverified_context', None)):\n",
    "    ssl._create_default_https_context = ssl._create_unverified_context"
   ]
  },
  {
   "cell_type": "markdown",
   "metadata": {},
   "source": [
    "### Task 0\n",
    "Write a scaper"
   ]
  },
  {
   "cell_type": "code",
   "execution_count": 54,
   "metadata": {},
   "outputs": [
    {
     "name": "stdout",
     "output_type": "stream",
     "text": [
      "Results file already exists in cwd, loading results.csv into df now...\n"
     ]
    }
   ],
   "source": [
    "cwd = os.getcwd()\n",
    "\n",
    "if not os.path.isfile(cwd + '/results.csv'):\n",
    "    df = pd.DataFrame(columns=['Date', 'message'])\n",
    "    URL = \"https://forums.edmunds.com/discussion/2864/general/x/entry-level-luxury-performance-sedans\"\n",
    "    page = requests.get(URL)\n",
    "\n",
    "    x = 0\n",
    "    \n",
    "    '''TQDM :\n",
    "    tqdm is a library in Python which is used for creating Progress Meters or Progress Bars. \n",
    "    tqdm got its name from the Arabic name taqaddum which means ‘progress’.'''\n",
    "    for i in tqdm(range(1,250)):\n",
    "\n",
    "        if i == 1:\n",
    "            URL = \"https://forums.edmunds.com/discussion/2864/general/x/entry-level-luxury-performance-sedans\"\n",
    "        else:\n",
    "            URL = \"https://forums.edmunds.com/discussion/2864/general/x/entry-level-luxury-performance-sedans/p%i\" %i\n",
    "        page = requests.get(URL)\n",
    "\n",
    "        soup = BeautifulSoup(page.content, \"html.parser\")\n",
    "        \n",
    "        '''Beautiful Soup is a Python library that is used for web scraping purposes to pull the data out of HTML and XML files. \n",
    "        It creates a parse tree from page source code that can be used to extract data in a hierarchical and more readable manner.'''\n",
    "        comments = soup.find_all(\"div\", class_=\"Comment\")\n",
    "        for comment in comments:\n",
    "            time = comment.find(\"time\")\n",
    "            message = comment.find(\"div\", class_=\"Message userContent\")\n",
    "            time = time.text\n",
    "            message = message.text\n",
    "            df.loc[x, 'Date'] = time\n",
    "            df.loc[x, 'message'] = message\n",
    "            x += 1\n",
    "    \n",
    "    #sending results to csv      \n",
    "    df.to_csv(\"results.csv\", sep=\"\\t\")\n",
    "    \n",
    "else:\n",
    "    print('Results file already exists in cwd, loading results.csv into df now...')\n",
    "    df = pd.read_csv('results.csv', sep='\\t').drop(['Unnamed: 0'], axis=1)"
   ]
  },
  {
   "cell_type": "code",
   "execution_count": 55,
   "metadata": {},
   "outputs": [
    {
     "data": {
      "text/plain": [
       "0    I personally think that with a few tweaks the ...\n",
       "1    I am debating a new purchase and these two are...\n",
       "Name: message, dtype: object"
      ]
     },
     "execution_count": 55,
     "metadata": {},
     "output_type": "execute_result"
    }
   ],
   "source": [
    "#selecting message only and creating new df\n",
    "\n",
    "s_sentence_withstopwords = df['message'].apply(lambda x : x.strip('\\n'))\n",
    "s_sentence_withstopwords.head(2)"
   ]
  },
  {
   "cell_type": "code",
   "execution_count": 56,
   "metadata": {},
   "outputs": [
    {
     "name": "stdout",
     "output_type": "stream",
     "text": [
      "Words have already been processed, loading now...\n"
     ]
    }
   ],
   "source": [
    "#sepearating by word and removing stop words\n",
    "from IPython.core.debugger import set_trace\n",
    "\n",
    "if not os.path.isfile(cwd + '/words_stop.csv') or not os.path.isfile(cwd + '/words_no_stop.csv'):\n",
    "    with_stop_words = []\n",
    "    for idx, sentence in tqdm(s_sentence_withstopwords.items()): ## items() to get the key value pairs index and sentences\n",
    "        for word in list(set(sentence.split())):  ## set to get one word only once from a single comment\n",
    "            word = re.sub(r'\\W+', '', word) # removes all special characters\n",
    "            with_stop_words.append(word.strip().lower()) # lower # strip removes any leading or trailing space character by default\n",
    "           \n",
    "    no_stop_words = []\n",
    "    for word in tqdm(with_stop_words):\n",
    "        if word.lower() not in stopwords.words('english'):\n",
    "            no_stop_words.append(word.lower()) \n",
    "            \n",
    "    s_words_withoutstopwords = pd.Series(no_stop_words)\n",
    "    s_words_withstopwords = pd.Series(with_stop_words)\n",
    "    \n",
    "    s_words_tok = []\n",
    "    for word in tqdm(s_words_withoutstopwords):\n",
    "      tokenizer = nltk.RegexpTokenizer(r\"\\w+\")\n",
    "      try:\n",
    "        new_word = tokenizer.tokenize(word)\n",
    "        s_words_tok.append(new_word[0])\n",
    "      except IndexError:\n",
    "        pass\n",
    "    \n",
    "    s_words_withoutstopwords = pd.Series(s_words_tok)\n",
    "    s_words_withstopwords.to_csv('words_stop.csv', index=False)\n",
    "    s_words_withoutstopwords.to_csv('words_no_stop.csv', index=False)\n",
    "else:\n",
    "    print('Words have already been processed, loading now...')\n",
    "    s_words_withstopwords = pd.read_csv('words_stop.csv')['0']\n",
    "    s_words_withoutstopwords = pd.read_csv('words_no_stop.csv')['0']"
   ]
  },
  {
   "cell_type": "code",
   "execution_count": 57,
   "metadata": {},
   "outputs": [
    {
     "data": {
      "text/plain": [
       "the              14200\n",
       "a                 9675\n",
       "and               9516\n",
       "to                8724\n",
       "is                8639\n",
       "                 ...  \n",
       "umpteenth            1\n",
       "movesinterior        1\n",
       "linkregarding        1\n",
       "unaffordably         1\n",
       "aug02                1\n",
       "Name: 0, Length: 49103, dtype: int64"
      ]
     },
     "execution_count": 57,
     "metadata": {},
     "output_type": "execute_result"
    }
   ],
   "source": [
    "s_words_withstopwords.value_counts()"
   ]
  },
  {
   "cell_type": "code",
   "execution_count": 58,
   "metadata": {},
   "outputs": [
    {
     "data": {
      "text/plain": [
       "car                5854\n",
       "cars               3492\n",
       "like               3252\n",
       "bmw                3210\n",
       "one                3083\n",
       "                   ... \n",
       "dale                  1\n",
       "lineis                1\n",
       "assumptionsfrom       1\n",
       "listour               1\n",
       "2005325i              1\n",
       "Name: 0, Length: 48964, dtype: int64"
      ]
     },
     "execution_count": 58,
     "metadata": {},
     "output_type": "execute_result"
    }
   ],
   "source": [
    "s_words_withoutstopwords.value_counts()"
   ]
  },
  {
   "cell_type": "code",
   "execution_count": 59,
   "metadata": {},
   "outputs": [
    {
     "name": "stdout",
     "output_type": "stream",
     "text": [
      "The word with the highest frequency is \"car\": 5854\n"
     ]
    }
   ],
   "source": [
    "top_word = s_words_withoutstopwords.value_counts().index.to_list()[0]\n",
    "top_frequency = s_words_withoutstopwords.value_counts().iloc[0]\n",
    "print('The word with the highest frequency is \"%s\": %d'%(top_word, top_frequency))"
   ]
  },
  {
   "cell_type": "markdown",
   "metadata": {},
   "source": [
    "### Task A\n",
    "Once you fetch the data, test if the data support Zipf’s law. Plot the most common 100 words in the data against the theoretical prediction of the law. For this question, do not remove stopwords. Also do not perform stemming or lemmatization. "
   ]
  },
  {
   "cell_type": "code",
   "execution_count": 60,
   "metadata": {},
   "outputs": [
    {
     "data": {
      "text/plain": [
       "<matplotlib.lines._AxLine at 0x1a52c3baee0>"
      ]
     },
     "execution_count": 60,
     "metadata": {},
     "output_type": "execute_result"
    },
    {
     "data": {
      "image/png": "[encoded data removed]",
      "text/plain": [
       "<Figure size 1080x720 with 1 Axes>"
      ]
     },
     "metadata": {
      "needs_background": "light"
     },
     "output_type": "display_data"
    }
   ],
   "source": [
    "#Zipf's law with plotted line on df with stop words\n",
    "%matplotlib inline\n",
    "import matplotlib.pyplot as plt\n",
    "import numpy as np\n",
    "\n",
    "words = list(s_words_withstopwords.value_counts().index)\n",
    "counts = s_words_withstopwords.value_counts().to_list()\n",
    "\n",
    "idxs = [i for i in range(1, s_words_withstopwords.value_counts().count() + 1)]\n",
    "df_words_withstopwords = pd.DataFrame(data={'word': words, 'count': counts}, index=idxs)\n",
    "\n",
    "first_100x = np.log10(df_words_withstopwords.index[:100]).tolist()\n",
    "first_100y = np.log10(df_words_withstopwords[\"count\"].loc[:100]).tolist()\n",
    "\n",
    "f, ax = plt.subplots(figsize = (15,10))\n",
    "ax.scatter(first_100x, first_100y, marker='*')\n",
    "plt.title(\"Zipf's Law\")\n",
    "plt.xlabel('Rank')\n",
    "plt.ylabel('Frequency')\n",
    "plt.axline(xy1= (2,3), slope=-1)"
   ]
  },
  {
   "cell_type": "code",
   "execution_count": 61,
   "metadata": {},
   "outputs": [
    {
     "name": "stderr",
     "output_type": "stream",
     "text": [
      "<ipython-input-61-0f426eede60b>:16: RuntimeWarning: divide by zero encountered in log\n",
      "  theta_list.append(np.log(xr/n*xn)/np.log(r))\n"
     ]
    },
    {
     "name": "stdout",
     "output_type": "stream",
     "text": [
      "[-1.1769992047930127, -1.1034631926748892, -1.0693455551687605, -1.038761838460247, -1.014428663631466, -1.0002421774988666, -0.9873852737780359, -0.9768536530840695, -0.965541370632425]\n"
     ]
    }
   ],
   "source": [
    "#Proving Zipf's law \n",
    "#lnr = theta * ln(xr/n*xn)\n",
    "#theta = ln(xr/n*xn)/lnr\n",
    "\n",
    "#divide by two because there are two column in the df\n",
    "n = int(df_words_withstopwords.size/2)\n",
    "xn = counts[-1]\n",
    "\n",
    "#test if theta = -1\n",
    "theta_list = []\n",
    "#np.log()\n",
    "for xr in df_words_withstopwords.index-1: \n",
    "    #print(xr)\n",
    "    r = df_words_withstopwords.iloc[xr]['count']\n",
    "    if r != 1:\n",
    "        theta_list.append(np.log(xr/n*xn)/np.log(r))\n",
    "    \n",
    "#avg_theta = sum(theta_list)/len(theta_list)\n",
    "\n",
    "#the first thetas in the list shows that theta is indeed ~-1\n",
    "print(theta_list[1:10])"
   ]
  },
  {
   "cell_type": "code",
   "execution_count": 62,
   "metadata": {},
   "outputs": [
    {
     "data": {
      "text/plain": [
       "-1.2438221841250439"
      ]
     },
     "execution_count": 62,
     "metadata": {},
     "output_type": "execute_result"
    }
   ],
   "source": [
    "mean_theta = np.array(theta_list[1:]).mean()\n",
    "theta_list\n",
    "mean_theta\n"
   ]
  },
  {
   "cell_type": "code",
   "execution_count": 63,
   "metadata": {},
   "outputs": [
    {
     "data": {
      "image/png": "[encoded data removed]",
      "text/plain": [
       "<Figure size 432x288 with 1 Axes>"
      ]
     },
     "metadata": {
      "needs_background": "light"
     },
     "output_type": "display_data"
    }
   ],
   "source": [
    "import matplotlib.pyplot as plt\n",
    "plt.hist(np.array(theta_list[1:]))\n",
    "plt.show()"
   ]
  },
  {
   "cell_type": "code",
   "execution_count": 64,
   "metadata": {},
   "outputs": [],
   "source": [
    "theta_std = np.array(theta_list[1:]).std()\n",
    "theta_std\n",
    "up_range = mean_theta + theta_std\n",
    "low_range = mean_theta - theta_std"
   ]
  },
  {
   "cell_type": "code",
   "execution_count": 65,
   "metadata": {},
   "outputs": [],
   "source": [
    "within_one_std = np.where(theta_list[1:]<= up_range) or np.where(theta_list[1:]>= low_range)"
   ]
  },
  {
   "cell_type": "code",
   "execution_count": 66,
   "metadata": {},
   "outputs": [
    {
     "data": {
      "text/plain": [
       "79.2988868582821"
      ]
     },
     "execution_count": 66,
     "metadata": {},
     "output_type": "execute_result"
    }
   ],
   "source": [
    "percentage_within_one_std = (within_one_std[0].shape[0]/ (len(theta_list)-1))*100\n",
    "percentage_within_one_std"
   ]
  },
  {
   "cell_type": "markdown",
   "metadata": {},
   "source": [
    "### Task B\n",
    "Find the top 10 brands from frequency counts. You will need to write a script to count the frequencies of words (stopwords should NOT be counted). Replace frequently occurring car models with brands so that from now on you have to deal with only brands and not models. You will need another script for this job. A list of model and brand names (not exhaustive) are provided in a separate file. "
   ]
  },
  {
   "cell_type": "code",
   "execution_count": 67,
   "metadata": {},
   "outputs": [],
   "source": [
    "car_models = pd.read_csv('car models brands.csv')\n",
    "model_list = car_models['Model'].to_list()\n",
    "\n",
    "#check if word is in card_model array and changes it the brand\n",
    "def brand_changer(words):\n",
    "    newlist = []\n",
    "    for word in words:\n",
    "        if word in model_list:\n",
    "          #if word in model array change it to the corresponding brand\n",
    "            newlist.append(car_models[car_models['Model']==word]['Brand'].values[0])\n",
    "        else:\n",
    "            newlist.append(word)\n",
    "            \n",
    "    return newlist\n",
    "\n",
    "#make brand into dictionary with initial value as 0\n",
    "brands = list(car_models['Brand'].unique())\n",
    "\n",
    "#counts frequency of each brand, returns array of tupples with top 10 brands: [(brand, frequency),(brand,frequncy),...etc]\n",
    "def brand_freq(words):\n",
    "    brand_count = dict.fromkeys(brands, 0)\n",
    "    \n",
    "    for word in words:\n",
    "        if word in list(brand_count.keys()):\n",
    "            brand_count[word] +=1\n",
    "    \n",
    "    return sorted(brand_count.items(),  key=lambda x: x[1], reverse=True)[:11]\n",
    "\n",
    "words_brand_filtered = pd.Series(brand_changer(s_words_withoutstopwords.to_list()))\n",
    "sorted_brand_freq = pd.Series(brand_freq(words_brand_filtered.to_list()))"
   ]
  },
  {
   "cell_type": "code",
   "execution_count": 68,
   "metadata": {},
   "outputs": [
    {
     "data": {
      "text/plain": [
       "0           (bmw, 5579)\n",
       "1          (audi, 1991)\n",
       "2         (acura, 1928)\n",
       "3         (honda, 1367)\n",
       "4      (infiniti, 1264)\n",
       "5         (nissan, 787)\n",
       "6         (toyota, 730)\n",
       "7          (volvo, 594)\n",
       "8     (volkswagen, 581)\n",
       "9         (subaru, 434)\n",
       "10          (ford, 425)\n",
       "dtype: object"
      ]
     },
     "execution_count": 68,
     "metadata": {},
     "output_type": "execute_result"
    }
   ],
   "source": [
    "# top 10 sorted brands\n",
    "sorted_brand_freq"
   ]
  },
  {
   "cell_type": "markdown",
   "metadata": {},
   "source": [
    "### Task C\n",
    "Calculate lift ratios for associations between the top-10 brands identified in Task A. You will have to write a script to do this task). For lift calculations, be sure not to count a mention more than once per post, even if it is mentioned multiple times in the post."
   ]
  },
  {
   "cell_type": "code",
   "execution_count": 69,
   "metadata": {},
   "outputs": [],
   "source": [
    "#takes out top 10 brands from tuple in sorted brand freq\n",
    "brands = [ item[0] for item in sorted_brand_freq]"
   ]
  },
  {
   "cell_type": "code",
   "execution_count": 70,
   "metadata": {},
   "outputs": [],
   "source": [
    " #finds lift between two entities\n",
    "def lift(A, B, messages):\n",
    "    A=A.lower()\n",
    "    B=B.lower()\n",
    "    A_count = 0\n",
    "    B_count = 0\n",
    "    AB_count = 0\n",
    "    n=len(messages)\n",
    "    for message in messages:\n",
    "      message=message.lower()\n",
    "      if A in message:\n",
    "        A_count+=1\n",
    "      if B in message:\n",
    "        B_count+=1\n",
    "      if A in message and B in message:\n",
    "        AB_count+=1\n",
    "    lift_val= (n*AB_count)/(A_count*B_count)\n",
    "    if A == B:\n",
    "      return \"\"\n",
    "    else:\n",
    "      return round(lift_val,4)\n",
    "\n",
    "#utilizes lift function above and runs agaainst all the brands in the brand list. Returns dataframe of lift values with useless values removed\n",
    "def lift_everything(brands,messages):\n",
    "  results=[]\n",
    "  counter=0\n",
    "  for b in brands:\n",
    "    results.append([])\n",
    "    for f in brands:\n",
    "      k=lift(b,f,messages)\n",
    "      results[counter].append(k)\n",
    "    counter+=1\n",
    "  import numpy as np\n",
    "  triangle = np.triu (results)\n",
    "  import pandas as pd\n",
    "  return pd.DataFrame(triangle, columns=[brands], index=[brands])"
   ]
  },
  {
   "cell_type": "code",
   "execution_count": 71,
   "metadata": {},
   "outputs": [
    {
     "name": "stderr",
     "output_type": "stream",
     "text": [
      "100%|███████████████████████████████████████████████████████████████████████| 12450/12450 [00:07<00:00, 1755.10it/s]\n"
     ]
    }
   ],
   "source": [
    "#made array with all the messsages with brand \n",
    "messages_with_brands = []\n",
    "for message in tqdm(s_sentence_withstopwords):\n",
    "  tokenizer = nltk.RegexpTokenizer(r\"\\w+\")\n",
    "  message_tok = tokenizer.tokenize(message)\n",
    "  words = \" \".join(message_tok).lower().split()\n",
    "  messages_with_brands.append(\" \".join(brand_changer(words)))"
   ]
  },
  {
   "cell_type": "code",
   "execution_count": 72,
   "metadata": {},
   "outputs": [
    {
     "data": {
      "text/html": [
       "<div>\n",
       "<style scoped>\n",
       "    .dataframe tbody tr th:only-of-type {\n",
       "        vertical-align: middle;\n",
       "    }\n",
       "\n",
       "    .dataframe tbody tr th {\n",
       "        vertical-align: top;\n",
       "    }\n",
       "\n",
       "    .dataframe thead tr th {\n",
       "        text-align: left;\n",
       "    }\n",
       "</style>\n",
       "<table border=\"1\" class=\"dataframe\">\n",
       "  <thead>\n",
       "    <tr>\n",
       "      <th></th>\n",
       "      <th>bmw</th>\n",
       "      <th>audi</th>\n",
       "      <th>acura</th>\n",
       "      <th>honda</th>\n",
       "      <th>infiniti</th>\n",
       "      <th>nissan</th>\n",
       "      <th>toyota</th>\n",
       "      <th>volvo</th>\n",
       "      <th>volkswagen</th>\n",
       "      <th>subaru</th>\n",
       "      <th>ford</th>\n",
       "    </tr>\n",
       "  </thead>\n",
       "  <tbody>\n",
       "    <tr>\n",
       "      <th>bmw</th>\n",
       "      <td></td>\n",
       "      <td>1.6587</td>\n",
       "      <td>1.3729</td>\n",
       "      <td>1.2342</td>\n",
       "      <td>1.7251</td>\n",
       "      <td>1.0943</td>\n",
       "      <td>1.4456</td>\n",
       "      <td>1.4506</td>\n",
       "      <td>1.4424</td>\n",
       "      <td>1.2159</td>\n",
       "      <td>1.5295</td>\n",
       "    </tr>\n",
       "    <tr>\n",
       "      <th>audi</th>\n",
       "      <td></td>\n",
       "      <td></td>\n",
       "      <td>2.2333</td>\n",
       "      <td>1.5763</td>\n",
       "      <td>2.3254</td>\n",
       "      <td>1.2029</td>\n",
       "      <td>1.4986</td>\n",
       "      <td>3.4809</td>\n",
       "      <td>3.9705</td>\n",
       "      <td>1.8712</td>\n",
       "      <td>1.7408</td>\n",
       "    </tr>\n",
       "    <tr>\n",
       "      <th>acura</th>\n",
       "      <td></td>\n",
       "      <td></td>\n",
       "      <td></td>\n",
       "      <td>2.9586</td>\n",
       "      <td>3.0253</td>\n",
       "      <td>2.1542</td>\n",
       "      <td>1.601</td>\n",
       "      <td>2.6126</td>\n",
       "      <td>2.0086</td>\n",
       "      <td>1.7841</td>\n",
       "      <td>1.466</td>\n",
       "    </tr>\n",
       "    <tr>\n",
       "      <th>honda</th>\n",
       "      <td></td>\n",
       "      <td></td>\n",
       "      <td></td>\n",
       "      <td></td>\n",
       "      <td>1.6737</td>\n",
       "      <td>3.335</td>\n",
       "      <td>3.4832</td>\n",
       "      <td>2.2141</td>\n",
       "      <td>2.8064</td>\n",
       "      <td>1.7592</td>\n",
       "      <td>2.2164</td>\n",
       "    </tr>\n",
       "    <tr>\n",
       "      <th>infiniti</th>\n",
       "      <td></td>\n",
       "      <td></td>\n",
       "      <td></td>\n",
       "      <td></td>\n",
       "      <td></td>\n",
       "      <td>3.0718</td>\n",
       "      <td>1.7305</td>\n",
       "      <td>2.2559</td>\n",
       "      <td>1.9849</td>\n",
       "      <td>1.6271</td>\n",
       "      <td>1.4347</td>\n",
       "    </tr>\n",
       "    <tr>\n",
       "      <th>nissan</th>\n",
       "      <td></td>\n",
       "      <td></td>\n",
       "      <td></td>\n",
       "      <td></td>\n",
       "      <td></td>\n",
       "      <td></td>\n",
       "      <td>4.0075</td>\n",
       "      <td>2.2213</td>\n",
       "      <td>2.5129</td>\n",
       "      <td>2.0734</td>\n",
       "      <td>2.1976</td>\n",
       "    </tr>\n",
       "    <tr>\n",
       "      <th>toyota</th>\n",
       "      <td></td>\n",
       "      <td></td>\n",
       "      <td></td>\n",
       "      <td></td>\n",
       "      <td></td>\n",
       "      <td></td>\n",
       "      <td></td>\n",
       "      <td>2.1951</td>\n",
       "      <td>2.1205</td>\n",
       "      <td>1.5967</td>\n",
       "      <td>2.5065</td>\n",
       "    </tr>\n",
       "    <tr>\n",
       "      <th>volvo</th>\n",
       "      <td></td>\n",
       "      <td></td>\n",
       "      <td></td>\n",
       "      <td></td>\n",
       "      <td></td>\n",
       "      <td></td>\n",
       "      <td></td>\n",
       "      <td></td>\n",
       "      <td>3.0539</td>\n",
       "      <td>3.9582</td>\n",
       "      <td>3.3879</td>\n",
       "    </tr>\n",
       "    <tr>\n",
       "      <th>volkswagen</th>\n",
       "      <td></td>\n",
       "      <td></td>\n",
       "      <td></td>\n",
       "      <td></td>\n",
       "      <td></td>\n",
       "      <td></td>\n",
       "      <td></td>\n",
       "      <td></td>\n",
       "      <td></td>\n",
       "      <td>3.2478</td>\n",
       "      <td>2.2539</td>\n",
       "    </tr>\n",
       "    <tr>\n",
       "      <th>subaru</th>\n",
       "      <td></td>\n",
       "      <td></td>\n",
       "      <td></td>\n",
       "      <td></td>\n",
       "      <td></td>\n",
       "      <td></td>\n",
       "      <td></td>\n",
       "      <td></td>\n",
       "      <td></td>\n",
       "      <td></td>\n",
       "      <td>2.1911</td>\n",
       "    </tr>\n",
       "    <tr>\n",
       "      <th>ford</th>\n",
       "      <td></td>\n",
       "      <td></td>\n",
       "      <td></td>\n",
       "      <td></td>\n",
       "      <td></td>\n",
       "      <td></td>\n",
       "      <td></td>\n",
       "      <td></td>\n",
       "      <td></td>\n",
       "      <td></td>\n",
       "      <td></td>\n",
       "    </tr>\n",
       "  </tbody>\n",
       "</table>\n",
       "</div>"
      ],
      "text/plain": [
       "           bmw    audi   acura   honda infiniti  nissan  toyota   volvo  \\\n",
       "bmw             1.6587  1.3729  1.2342   1.7251  1.0943  1.4456  1.4506   \n",
       "audi                    2.2333  1.5763   2.3254  1.2029  1.4986  3.4809   \n",
       "acura                           2.9586   3.0253  2.1542   1.601  2.6126   \n",
       "honda                                    1.6737   3.335  3.4832  2.2141   \n",
       "infiniti                                         3.0718  1.7305  2.2559   \n",
       "nissan                                                   4.0075  2.2213   \n",
       "toyota                                                           2.1951   \n",
       "volvo                                                                     \n",
       "volkswagen                                                                \n",
       "subaru                                                                    \n",
       "ford                                                                      \n",
       "\n",
       "           volkswagen  subaru    ford  \n",
       "bmw            1.4424  1.2159  1.5295  \n",
       "audi           3.9705  1.8712  1.7408  \n",
       "acura          2.0086  1.7841   1.466  \n",
       "honda          2.8064  1.7592  2.2164  \n",
       "infiniti       1.9849  1.6271  1.4347  \n",
       "nissan         2.5129  2.0734  2.1976  \n",
       "toyota         2.1205  1.5967  2.5065  \n",
       "volvo          3.0539  3.9582  3.3879  \n",
       "volkswagen             3.2478  2.2539  \n",
       "subaru                         2.1911  \n",
       "ford                                   "
      ]
     },
     "execution_count": 72,
     "metadata": {},
     "output_type": "execute_result"
    }
   ],
   "source": [
    "lifted = lift_everything(brands,messages_with_brands)\n",
    "lifted"
   ]
  },
  {
   "cell_type": "markdown",
   "metadata": {},
   "source": [
    "### Task D\n",
    "Show the brands on a multi-dimensional scaling (MDS) map (use a Python script for MDS, there are multiple scripts available on GitHub). "
   ]
  },
  {
   "cell_type": "code",
   "execution_count": 73,
   "metadata": {},
   "outputs": [],
   "source": [
    "def lift_dissim(A, B, messages):\n",
    "    A=A.lower()\n",
    "    B=B.lower()\n",
    "    A_count = 0\n",
    "    B_count = 0\n",
    "    AB_count = 0\n",
    "    n=len(messages)\n",
    "    for message in messages:\n",
    "      message=message.lower()\n",
    "      if A in message:\n",
    "        A_count+=1\n",
    "      if B in message:\n",
    "        B_count+=1\n",
    "      if A in message and B in message:\n",
    "        AB_count+=1\n",
    "    lift_val= (n*AB_count)/(A_count*B_count)\n",
    "    return round(lift_val,4)\n",
    "def lift_everything_dissimilarities(brands,messages):\n",
    "  results=[]\n",
    "  counter=0\n",
    "  for b in brands:\n",
    "    results.append([])\n",
    "    for f in brands:\n",
    "      k=lift_dissim(b,f,messages)\n",
    "      results[counter].append(1/k)\n",
    "    counter+=1\n",
    "  return pd.DataFrame(results, columns=[brands], index=[brands])"
   ]
  },
  {
   "cell_type": "code",
   "execution_count": 74,
   "metadata": {},
   "outputs": [
    {
     "data": {
      "text/html": [
       "<div>\n",
       "<style scoped>\n",
       "    .dataframe tbody tr th:only-of-type {\n",
       "        vertical-align: middle;\n",
       "    }\n",
       "\n",
       "    .dataframe tbody tr th {\n",
       "        vertical-align: top;\n",
       "    }\n",
       "\n",
       "    .dataframe thead tr th {\n",
       "        text-align: left;\n",
       "    }\n",
       "</style>\n",
       "<table border=\"1\" class=\"dataframe\">\n",
       "  <thead>\n",
       "    <tr>\n",
       "      <th></th>\n",
       "      <th>bmw</th>\n",
       "      <th>audi</th>\n",
       "      <th>acura</th>\n",
       "      <th>honda</th>\n",
       "      <th>infiniti</th>\n",
       "      <th>nissan</th>\n",
       "      <th>toyota</th>\n",
       "      <th>volvo</th>\n",
       "      <th>volkswagen</th>\n",
       "      <th>subaru</th>\n",
       "      <th>ford</th>\n",
       "    </tr>\n",
       "  </thead>\n",
       "  <tbody>\n",
       "    <tr>\n",
       "      <th>bmw</th>\n",
       "      <td>0.312373</td>\n",
       "      <td>0.602882</td>\n",
       "      <td>0.728385</td>\n",
       "      <td>0.810241</td>\n",
       "      <td>0.579677</td>\n",
       "      <td>0.913826</td>\n",
       "      <td>0.691754</td>\n",
       "      <td>0.689370</td>\n",
       "      <td>0.693289</td>\n",
       "      <td>0.822436</td>\n",
       "      <td>0.653808</td>\n",
       "    </tr>\n",
       "    <tr>\n",
       "      <th>audi</th>\n",
       "      <td>0.602882</td>\n",
       "      <td>0.117349</td>\n",
       "      <td>0.447768</td>\n",
       "      <td>0.634397</td>\n",
       "      <td>0.430034</td>\n",
       "      <td>0.831324</td>\n",
       "      <td>0.667289</td>\n",
       "      <td>0.287282</td>\n",
       "      <td>0.251857</td>\n",
       "      <td>0.534416</td>\n",
       "      <td>0.574449</td>\n",
       "    </tr>\n",
       "    <tr>\n",
       "      <th>acura</th>\n",
       "      <td>0.728385</td>\n",
       "      <td>0.447768</td>\n",
       "      <td>0.124740</td>\n",
       "      <td>0.337998</td>\n",
       "      <td>0.330546</td>\n",
       "      <td>0.464209</td>\n",
       "      <td>0.624610</td>\n",
       "      <td>0.382760</td>\n",
       "      <td>0.497859</td>\n",
       "      <td>0.560507</td>\n",
       "      <td>0.682128</td>\n",
       "    </tr>\n",
       "    <tr>\n",
       "      <th>honda</th>\n",
       "      <td>0.810241</td>\n",
       "      <td>0.634397</td>\n",
       "      <td>0.337998</td>\n",
       "      <td>0.087711</td>\n",
       "      <td>0.597479</td>\n",
       "      <td>0.299850</td>\n",
       "      <td>0.287092</td>\n",
       "      <td>0.451651</td>\n",
       "      <td>0.356328</td>\n",
       "      <td>0.568440</td>\n",
       "      <td>0.451182</td>\n",
       "    </tr>\n",
       "    <tr>\n",
       "      <th>infiniti</th>\n",
       "      <td>0.579677</td>\n",
       "      <td>0.430034</td>\n",
       "      <td>0.330546</td>\n",
       "      <td>0.597479</td>\n",
       "      <td>0.093012</td>\n",
       "      <td>0.325542</td>\n",
       "      <td>0.577868</td>\n",
       "      <td>0.443282</td>\n",
       "      <td>0.503804</td>\n",
       "      <td>0.614590</td>\n",
       "      <td>0.697010</td>\n",
       "    </tr>\n",
       "    <tr>\n",
       "      <th>nissan</th>\n",
       "      <td>0.913826</td>\n",
       "      <td>0.831324</td>\n",
       "      <td>0.464209</td>\n",
       "      <td>0.299850</td>\n",
       "      <td>0.325542</td>\n",
       "      <td>0.047229</td>\n",
       "      <td>0.249532</td>\n",
       "      <td>0.450187</td>\n",
       "      <td>0.397947</td>\n",
       "      <td>0.482300</td>\n",
       "      <td>0.455042</td>\n",
       "    </tr>\n",
       "    <tr>\n",
       "      <th>toyota</th>\n",
       "      <td>0.691754</td>\n",
       "      <td>0.667289</td>\n",
       "      <td>0.624610</td>\n",
       "      <td>0.287092</td>\n",
       "      <td>0.577868</td>\n",
       "      <td>0.249532</td>\n",
       "      <td>0.053896</td>\n",
       "      <td>0.455560</td>\n",
       "      <td>0.471587</td>\n",
       "      <td>0.626292</td>\n",
       "      <td>0.398963</td>\n",
       "    </tr>\n",
       "    <tr>\n",
       "      <th>volvo</th>\n",
       "      <td>0.689370</td>\n",
       "      <td>0.287282</td>\n",
       "      <td>0.382760</td>\n",
       "      <td>0.451651</td>\n",
       "      <td>0.443282</td>\n",
       "      <td>0.450187</td>\n",
       "      <td>0.455560</td>\n",
       "      <td>0.035984</td>\n",
       "      <td>0.327450</td>\n",
       "      <td>0.252640</td>\n",
       "      <td>0.295168</td>\n",
       "    </tr>\n",
       "    <tr>\n",
       "      <th>volkswagen</th>\n",
       "      <td>0.693289</td>\n",
       "      <td>0.251857</td>\n",
       "      <td>0.497859</td>\n",
       "      <td>0.356328</td>\n",
       "      <td>0.503804</td>\n",
       "      <td>0.397947</td>\n",
       "      <td>0.471587</td>\n",
       "      <td>0.327450</td>\n",
       "      <td>0.036546</td>\n",
       "      <td>0.307901</td>\n",
       "      <td>0.443675</td>\n",
       "    </tr>\n",
       "    <tr>\n",
       "      <th>subaru</th>\n",
       "      <td>0.822436</td>\n",
       "      <td>0.534416</td>\n",
       "      <td>0.560507</td>\n",
       "      <td>0.568440</td>\n",
       "      <td>0.614590</td>\n",
       "      <td>0.482300</td>\n",
       "      <td>0.626292</td>\n",
       "      <td>0.252640</td>\n",
       "      <td>0.307901</td>\n",
       "      <td>0.027068</td>\n",
       "      <td>0.456392</td>\n",
       "    </tr>\n",
       "    <tr>\n",
       "      <th>ford</th>\n",
       "      <td>0.653808</td>\n",
       "      <td>0.574449</td>\n",
       "      <td>0.682128</td>\n",
       "      <td>0.451182</td>\n",
       "      <td>0.697010</td>\n",
       "      <td>0.455042</td>\n",
       "      <td>0.398963</td>\n",
       "      <td>0.295168</td>\n",
       "      <td>0.443675</td>\n",
       "      <td>0.456392</td>\n",
       "      <td>0.048755</td>\n",
       "    </tr>\n",
       "  </tbody>\n",
       "</table>\n",
       "</div>"
      ],
      "text/plain": [
       "                 bmw      audi     acura     honda  infiniti    nissan  \\\n",
       "bmw         0.312373  0.602882  0.728385  0.810241  0.579677  0.913826   \n",
       "audi        0.602882  0.117349  0.447768  0.634397  0.430034  0.831324   \n",
       "acura       0.728385  0.447768  0.124740  0.337998  0.330546  0.464209   \n",
       "honda       0.810241  0.634397  0.337998  0.087711  0.597479  0.299850   \n",
       "infiniti    0.579677  0.430034  0.330546  0.597479  0.093012  0.325542   \n",
       "nissan      0.913826  0.831324  0.464209  0.299850  0.325542  0.047229   \n",
       "toyota      0.691754  0.667289  0.624610  0.287092  0.577868  0.249532   \n",
       "volvo       0.689370  0.287282  0.382760  0.451651  0.443282  0.450187   \n",
       "volkswagen  0.693289  0.251857  0.497859  0.356328  0.503804  0.397947   \n",
       "subaru      0.822436  0.534416  0.560507  0.568440  0.614590  0.482300   \n",
       "ford        0.653808  0.574449  0.682128  0.451182  0.697010  0.455042   \n",
       "\n",
       "              toyota     volvo volkswagen    subaru      ford  \n",
       "bmw         0.691754  0.689370   0.693289  0.822436  0.653808  \n",
       "audi        0.667289  0.287282   0.251857  0.534416  0.574449  \n",
       "acura       0.624610  0.382760   0.497859  0.560507  0.682128  \n",
       "honda       0.287092  0.451651   0.356328  0.568440  0.451182  \n",
       "infiniti    0.577868  0.443282   0.503804  0.614590  0.697010  \n",
       "nissan      0.249532  0.450187   0.397947  0.482300  0.455042  \n",
       "toyota      0.053896  0.455560   0.471587  0.626292  0.398963  \n",
       "volvo       0.455560  0.035984   0.327450  0.252640  0.295168  \n",
       "volkswagen  0.471587  0.327450   0.036546  0.307901  0.443675  \n",
       "subaru      0.626292  0.252640   0.307901  0.027068  0.456392  \n",
       "ford        0.398963  0.295168   0.443675  0.456392  0.048755  "
      ]
     },
     "execution_count": 74,
     "metadata": {},
     "output_type": "execute_result"
    }
   ],
   "source": [
    "lifted_dissim = lift_everything_dissimilarities(brands,messages_with_brands)\n",
    "lifted_dissim"
   ]
  },
  {
   "cell_type": "code",
   "execution_count": 75,
   "metadata": {},
   "outputs": [
    {
     "name": "stdout",
     "output_type": "stream",
     "text": [
      "[[ 0.48757066 -0.90618798]\n",
      " [-0.30887914 -0.5839893 ]\n",
      " [ 0.16345472 -0.22227198]\n",
      " [ 0.16961807  0.39283443]\n",
      " [ 0.41482825 -0.26162459]\n",
      " [ 0.5116087   0.42372899]\n",
      " [ 0.24487476  0.59271128]\n",
      " [-0.42450621 -0.10671976]\n",
      " [-0.31877369  0.08325317]\n",
      " [-0.63380096  0.07541225]\n",
      " [-0.30599515  0.51285351]]\n"
     ]
    },
    {
     "name": "stderr",
     "output_type": "stream",
     "text": [
      "C:\\Users\\jloes\\anaconda3\\lib\\site-packages\\sklearn\\manifold\\_mds.py:419: UserWarning: The MDS API has changed. ``fit`` now constructs an dissimilarity matrix from data. To use a custom dissimilarity matrix, set ``dissimilarity='precomputed'``.\n",
      "  warnings.warn(\"The MDS API has changed. ``fit`` now constructs an\"\n"
     ]
    }
   ],
   "source": [
    "mds = MDS(random_state=0)\n",
    "X_transform = mds.fit_transform(lifted_dissim)\n",
    "\n",
    "print(X_transform)"
   ]
  },
  {
   "cell_type": "code",
   "execution_count": 76,
   "metadata": {},
   "outputs": [
    {
     "data": {
      "image/png": "[encoded data removed]",
      "text/plain": [
       "<Figure size 432x288 with 1 Axes>"
      ]
     },
     "metadata": {
      "needs_background": "light"
     },
     "output_type": "display_data"
    }
   ],
   "source": [
    "fig = plt.figure()\n",
    "\n",
    "ax = fig.add_subplot(122)\n",
    "plt.scatter(X_transform[:,0], X_transform[:,1], c=['b','g','r','c','m','y','k','aquamarine','tab:olive','mediumseagreen','tab:pink'])\n",
    "for i, txt in enumerate(brands):\n",
    "    ax.annotate(txt, (X_transform[:,0][i], X_transform[:,1][i]))\n",
    "plt.title('Embedding in 2D')\n",
    "fig.subplots_adjust(wspace=.4, hspace=0.5)\n",
    "plt.show()"
   ]
  },
  {
   "cell_type": "markdown",
   "metadata": {},
   "source": [
    "### Task E\n",
    "What insights can you offer to your client from your analyses in Tasks C and D "
   ]
  },
  {
   "cell_type": "markdown",
   "metadata": {},
   "source": [
    "The highest association between car brands is in between Nissan and Toyota suggesting that these two brands are viewed similarly and as close competitors to one another. While neither of these brands is necessarily a luxury brand, the association between them should still be noted as they have the highest amount of co-occurrences. In terms of luxury brands (BMW, Audi, Acura, and Infiniti) Acura and Infiniti are discussed the most in conjunction. From Acura’s perspective perhaps focusing on gaining some market share from Infiniti would be more useful and effective than attempting to compete against more expensive luxury cars such as BMW. BMW and Acura have the lowest lift value among the luxury brands suggesting these brands may have stronger followings and are not often compared/contrasted together. This reiterates the point that Acura should focus on competing with brands more similar to itself, that way its marketing dollars can be spent more efficiently.  Another data point to consider is the association between Audi and Volkswagen. Volkswagen is the parent company of Audi so it makes sense why they are mentioned frequently together; however Acura and Honda (Honda is the parent company of Acura) are not mentioned as frequently. It may be worth performing further sentiment analysis in order to discern if the reputation of the parent company may affect the perception of its luxury brands.\n",
    "\n",
    "Looking at the MDS graph, it echoes several of the points above, while allowing us to visualize the similarities of the brands. There is a cluster of Toyota, Nissan and Honda, which reflects their high lift values. As aforementioned, Acura and Infiniti are close together, with BMW far removed from their cluster. This MDS graph can be a very useful tool in identifying a brand’s closest group of competitors. This information coupled with the lift values can help marketing departments target specific customers and identify which customers may have a slower switching cost than others (i.e. it's easier to get an Infiniti customer to switch to an Acura than a BMW customer). These insights can ensure that marketing campaigns are more targeted and efficient. \n"
   ]
  },
  {
   "cell_type": "markdown",
   "metadata": {},
   "source": [
    "### Part F\n",
    "What are 5 most frequently mentioned attributes or features of cars in the discussions? Which attributes are most strongly associated with which of these 5 brands? You DON’T have to do a sentiment analysis for this assignment."
   ]
  },
  {
   "cell_type": "code",
   "execution_count": 77,
   "metadata": {},
   "outputs": [
    {
     "name": "stdout",
     "output_type": "stream",
     "text": [
      "           new performance interior  manual handling\n",
      "bmw     1.5537       1.549   1.4758  1.3958   1.7334\n",
      "honda   1.8341      1.4509   1.2926  1.3852   1.6567\n",
      "toyota  1.4631      1.0271   1.0944  1.3446   1.0232\n",
      "acura   1.6208      1.7065   1.6851  1.2618   1.6633\n",
      "audi    1.7883      1.5733   2.6792  1.6126   1.8259\n"
     ]
    }
   ],
   "source": [
    "attributes = ['new', 'performance','interior', 'manual', 'handling']\n",
    "brands = ['bmw', 'honda', 'toyota', 'acura', 'audi']\n",
    "\n",
    "brand_attribute_lift = pd.DataFrame(index = brands, columns = attributes)\n",
    "\n",
    "for brand, attributes in list(brand_attribute_lift.iterrows()):\n",
    "    for attribute in attributes.index: \n",
    "        brand_attribute_lift.loc[brand][attribute] = lift(brand, attribute, s_sentence_withstopwords.to_list())\n",
    "print(brand_attribute_lift)"
   ]
  },
  {
   "cell_type": "code",
   "execution_count": 78,
   "metadata": {},
   "outputs": [
    {
     "data": {
      "text/plain": [
       "'\\nNew: Honda\\nPerformance: Acura\\nInterior: Audi\\nManual: Audi\\nHandling: Audi\\n'"
      ]
     },
     "execution_count": 78,
     "metadata": {},
     "output_type": "execute_result"
    }
   ],
   "source": [
    "\"\"\"\n",
    "New: Honda\n",
    "Performance: Acura\n",
    "Interior: Audi\n",
    "Manual: Audi\n",
    "Handling: Audi\n",
    "\"\"\""
   ]
  },
  {
   "cell_type": "markdown",
   "metadata": {},
   "source": [
    "### Task G\n",
    "What advice will you give to your client from Task F? For this assignment, you can assume that all sentiments are positive. "
   ]
  },
  {
   "cell_type": "markdown",
   "metadata": {},
   "source": [
    "Based off of the insights gained from Task F we can make several specific recommendations to our clients based upon the association of top features to brands. \n",
    "\n",
    "BMW: BMW appears to be competing with Acura and Audi when it comes to performance, with Acura being the clear performance leader and Audi/BMW being closely associated when its comes to their brand's relationship to performance. We recommend that BMW pushes their marketing to be more heavily focused on emphasizing performance while distancing themselves from Acura by comparing the two car's handling, in which it appears that BMW marginally has a better association to handling than Acura. \n",
    "Honda: It appears that people prefer new Honda's more than any new car from the other top brands we compared it against. Honda was not very competitive compared to the other brands associations with key attributes, because of this we think their best strategy would be to continue to distance themselves from other brands by focusing on promoting the purchase of new Hondas.\n",
    "Toyota: Toyota performed the worst of all the brands we analyzed when it came to association to key attributes. With low performance in relationship to being a new car, performance, interior, manual, and handling it is clear that while Toyota is a top selling brand, it is not a luxury brand. Because of this, we recommend that Toyota focus on making itself the #1 luxury car alternative. This can be done by focusing on attributes that do not have high association to luxury brands and continueing to promote their existing brand attributes.  \n",
    "Acura: Acura saw the highest association to performance of all brands analyzed. While they effectively competed with other brands when it comes to handling, they significally lagged behind Audi when it came to interior. We recommend that Acura leans into their performance lead in order to continue to differentiate themselves form Audi as a luxury perforamnce brand. \n",
    "Audi: Audi is the leading brand when it comes to association to interior, manual, and handling. With this, Audi is the clear luxury brand leader of the brands we analyzed. We recommend that Audi continue to lean into these leads, specifically when it comes to their interior where is has a lift value of 2.68 compared to the next brand being Acura with an association of 1.69. By emphasizing these attributes Audi can maintain and expand their lead on other luxury brands.  "
   ]
  },
  {
   "cell_type": "markdown",
   "metadata": {},
   "source": [
    "### Task H\n",
    "Which is the most aspirational brand in your data in terms of people actually wanting to buy or own? Describe your analysis. What are the business implications for this brand?"
   ]
  },
  {
   "cell_type": "code",
   "execution_count": 79,
   "metadata": {},
   "outputs": [],
   "source": [
    "'''given a post find the number of times a brand is positively associated with the words in aspiration_dict and accordingly\n",
    "increase their aspirational rank.'''\n",
    "\n",
    "df = pd.read_csv(\"results.csv\", sep=\"\\t\")\n",
    "aspiration_dict = [\"love to\", \"want to own\", \"want to buy\", \"suggest\", \"impressed with\", \"dream of\", \"wish to\", \"wish of\", \"dream to\", \"dream of\", \"best\", \"favourite\", \"to own\", \"to buy\", \"imagine of\"]\n",
    "negate_dict = [\"not\", \"never\", \"will not\", \"won't\", \"shall not\", \"shouldn't\"]"
   ]
  },
  {
   "cell_type": "code",
   "execution_count": 80,
   "metadata": {},
   "outputs": [
    {
     "data": {
      "text/plain": [
       "array(['acura', 'audi', 'bmw', 'buick', 'cadillac', 'chevrolet',\n",
       "       'chrysler', 'dodge', 'ford', 'honda', 'hyndai kia', 'hyundai',\n",
       "       'hyundai.', 'infiniti', 'kia', 'kia.', 'lincoln', 'mazda',\n",
       "       'mercedes', 'mercedes benz', 'mercedes-benz', 'mercury',\n",
       "       'mitsubishi', 'nissan', 'nissan.', 'pontiac', 'saturn', 'subaru',\n",
       "       'suzuki', 'toyata', 'toyota', 'volkswagen', 'volkwagen', 'volvo'],\n",
       "      dtype='<U13')"
      ]
     },
     "execution_count": 80,
     "metadata": {},
     "output_type": "execute_result"
    }
   ],
   "source": [
    "brands = pd.read_csv(\"car models brands.csv\", sep=\"\\t\")\n",
    "brand =[]\n",
    "model = []\n",
    "for i in range(0, len(brands['Brand,Model'])): \n",
    "    brand.append(brands['Brand,Model'][i].split(',')[0])\n",
    "    model.append(brands['Brand,Model'][i].split(',')[1])\n",
    "unique_brand = np.unique(brand)\n",
    "unique_brand"
   ]
  },
  {
   "cell_type": "code",
   "execution_count": 81,
   "metadata": {},
   "outputs": [
    {
     "name": "stdout",
     "output_type": "stream",
     "text": [
      "aspiration vector created\n"
     ]
    }
   ],
   "source": [
    "row_id = 0\n",
    "car_models = pd.read_csv('car models brands.csv')\n",
    "model_list = car_models['Model'].to_list()\n",
    "\n",
    "def brand_changer(words):\n",
    "    newlist = []\n",
    "    for word in words:\n",
    "        if word in model_list:\n",
    "            print(word)\n",
    "          #if word in model array change it to the corresponding brand\n",
    "            #print(car_models[car_models['Model']==word]['Brand'])\n",
    "            #newlist.append(car_models[car_models['Model']==word]['Brand'].values[0])\n",
    "            words.replace(word, car_models[car_models['Model']==word]['Brand'].values[0])\n",
    "  \n",
    "\n",
    "            #print(newlist)\n",
    "        else:\n",
    "            continue\n",
    "            #newlist.append(word)\n",
    "    print(newlist)        \n",
    "    return newlist\n",
    "\n",
    "def get_brand_name_in_sentence(sentence):\n",
    "    brands_in = []\n",
    "    for brand_name in unique_brand:\n",
    "        if brand_name in sentence:\n",
    "            brands_in.append(brand_name)\n",
    "    return brands_in   \n",
    "  \n",
    "def get_negate(sentence):\n",
    "    for negation in negate_dict:\n",
    "        if negation in sentence:\n",
    "            # negative sentiment\n",
    "            return 1\n",
    "    return 0\n",
    "\n",
    "aspiration_rank = []\n",
    "for brand_name in unique_brand:\n",
    "    \n",
    "    #aspiration_rank.append(brand_name : 0)\n",
    "    aspiration_rank.append([brand_name, 0])\n",
    "    #aspiration_rank = np.zeroes(len(unique_brand))\n",
    "aspiration_rank    \n",
    "    \n",
    "def update_aspirational_rank(aspiration_rank, brands_in):\n",
    "    \n",
    "    for i in range(0,len(aspiration_rank)):\n",
    "        if aspiration_rank[i][0] in brands_in:\n",
    "            aspiration_rank[i][1] = aspiration_rank[i][1] +1\n",
    "        #print(aspiration_rank)\n",
    "    return aspiration_rank\n",
    "\n",
    "model_list = car_models['Model'].to_list()\n",
    "\n",
    "#check if word is in card_model array and changes it the brand\n",
    "\n",
    "\n",
    "def brand_changer(words):\n",
    "    newlist = \" \"\n",
    "    for word in words:\n",
    "        if word in model_list:\n",
    "            print(word)\n",
    "            print(newlist)\n",
    "            newlist = newlist.join(car_models[car_models['Model']==word]['Brand'].values[0] + \" \")\n",
    "            #if word in model array change it to the corresponding brand\n",
    "            #newlist.append(car_models[car_models['Model']==word]['Brand'].values[0])\n",
    "        else:\n",
    "            newlist = newlist.join(word + \" \")\n",
    "            \n",
    "    return newlist\n",
    "        \n",
    "for post_len in range(0, len(df[\"message\"])): \n",
    "    post = df[\"message\"][post_len]\n",
    "    #post = brand_changer(post_original.split(\" \"))\n",
    "    #post = brand_changer(post_original)\n",
    "\n",
    "    #print(post)\n",
    "        \n",
    "    for brand_name in unique_brand:\n",
    "        if brand_name in post:\n",
    "            # remove the model names with brand names \n",
    "            for word in model_list:\n",
    "                if word in post:\n",
    "                    #print(word)\n",
    "                    post.replace(word, car_models[car_models['Model']==word]['Brand'].values[0])\n",
    "                    #print(car_models[car_models['Model']==word]['Brand'].values[0])\n",
    "            #print(row_id)\n",
    "            #string.find(\"substring\")\n",
    "            for aspiration_phrase in aspiration_dict:                   \n",
    "                if post.find(str(aspiration_phrase)) !=-1:\n",
    "                    brands_in = get_brand_name_in_sentence(post)                   \n",
    "                    ## positive sentiment\n",
    "                    if not get_negate(post):\n",
    "                        aspiration_rank = update_aspirational_rank(aspiration_rank, brands_in)\n",
    "                    break;\n",
    "            break;\n",
    "                        ## \n",
    "                #a.loc[row_id] = [row_id, post_len , post[sentence_len]]                \n",
    "print(\"aspiration vector created\")\n",
    "aspiration_rank_sorted = sorted(aspiration_rank, key= lambda x :-x[1] )\n",
    "#aspiration_rank_sorted"
   ]
  },
  {
   "cell_type": "code",
   "execution_count": 82,
   "metadata": {},
   "outputs": [
    {
     "name": "stdout",
     "output_type": "stream",
     "text": [
      "ford\n"
     ]
    }
   ],
   "source": [
    "# most_aspired_brand (ignoring first one as it is word car)\n",
    "\n",
    "most_aspired_brand = aspiration_rank_sorted[0][0]\n",
    "print(most_aspired_brand)"
   ]
  },
  {
   "cell_type": "markdown",
   "metadata": {},
   "source": [
    "From our analysis we see that Ford turns out to be the most aspirational brand. It is the brand which is associated with phrases such as “want to buy”, “want to own”, “would love to have” etc. \n",
    "Ford can use this information in it’s branding as a key point that they are the most aspirational brand. Ford could also use this information to realise that since it is already the most aspired brand, it does not need to spend a lot on it’s branding and hence can utilise part of that money in some other sector. \n",
    "\n",
    "Other brands can learn from Ford’s branding and marketing strategy as reference when creating their own in order to create a similar branding and fan-following.\n",
    "Since Ford has a very high reputation in the customer’s eyes, it might be very difficult  for other brands to compete with it. Rather they can take customers from other brands such as infiniti or Acura since they may have lower switching costs than the brand loyalty Ford  has.\n"
   ]
  }
 ],
 "metadata": {
  "kernelspec": {
   "display_name": "Python 3 (ipykernel)",
   "language": "python",
   "name": "python3"
  },
  "language_info": {
   "codemirror_mode": {
    "name": "ipython",
    "version": 3
   },
   "file_extension": ".py",
   "mimetype": "text/x-python",
   "name": "python",
   "nbconvert_exporter": "python",
   "pygments_lexer": "ipython3",
   "version": "3.7.3"
  }
 },
 "nbformat": 4,
 "nbformat_minor": 4
}
