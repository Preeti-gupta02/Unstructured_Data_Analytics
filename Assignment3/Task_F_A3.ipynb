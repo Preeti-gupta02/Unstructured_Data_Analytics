{
 "cells": [
  {
   "cell_type": "markdown",
   "metadata": {},
   "source": [
    "## Task F"
   ]
  },
  {
   "cell_type": "markdown",
   "metadata": {},
   "source": [
    "What advice would you give Zara if it wants to increase engagement on its Instagram page based on your findings?"
   ]
  },
  {
   "cell_type": "code",
   "execution_count": null,
   "metadata": {},
   "outputs": [],
   "source": [
    "Based on our analysis of Zara's Instagram feed, we believe that Zara \n",
    "should focus on their Fashion centered posts to increase their social \n",
    "media engagement on the platform. Our definition of Fashion included \n",
    "such labels as fashion, sleeve, street (a reference to streetwear), \n",
    "and design. The other two topics we included in our analysis were \n",
    "photography and human features.\n",
    "\n",
    "Our LDA analysis using these three topics helped us to identify that \n",
    "Fashion posts received the highest amount of likes. When we ranked \n",
    "posts by likes we were able to see that in the upper quartile of these\n",
    "posts fashion images were the highest-ranked topics. Therefore these \n",
    "kinds of posts should be the kind of posts Zara focuses on.\n",
    "\n",
    "Additionally, the caption of these posts also helps express the same \n",
    "sentiment. 4 out of 5 of the top liked posts after our topic analysis \n",
    "all had to do with various collections Zara was releasing. Perhaps \n",
    "doing a word frequency analysis of the caption could potentially be \n",
    "a next step that could also help identify with captions or hashtags \n",
    "can increase engagement.\n",
    "\n",
    "Overall our recommendations are for Zara to focus on more Fashion based \n",
    "images in their posts that high the article of clothing they are trying \n",
    "to feature rather than focusing on the model or artistic shots. Much \n",
    "like Zara's style, simple, well-made images seem to be the way to go \n",
    "in their social media strategy as well."
   ]
  }
 ],
 "metadata": {
  "kernelspec": {
   "display_name": "Python 3 (ipykernel)",
   "language": "python",
   "name": "python3"
  },
  "language_info": {
   "codemirror_mode": {
    "name": "ipython",
    "version": 3
   },
   "file_extension": ".py",
   "mimetype": "text/x-python",
   "name": "python",
   "nbconvert_exporter": "python",
   "pygments_lexer": "ipython3",
   "version": "3.7.3"
  }
 },
 "nbformat": 4,
 "nbformat_minor": 4
}
