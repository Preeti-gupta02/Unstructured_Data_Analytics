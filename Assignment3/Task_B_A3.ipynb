{
 "cells": [
  {
   "cell_type": "markdown",
   "metadata": {},
   "source": [
    "## Task B"
   ]
  },
  {
   "cell_type": "markdown",
   "metadata": {},
   "source": [
    "Using the image URLs, obtain image labels (text) from Google Vision (cloud service)"
   ]
  },
  {
   "cell_type": "code",
   "execution_count": 1,
   "metadata": {},
   "outputs": [],
   "source": [
    "import pandas as pd\n",
    "import numpy as numpy\n",
    "from google.cloud import vision\n",
    "from google.oauth2 import service_account"
   ]
  },
  {
   "cell_type": "code",
   "execution_count": 27,
   "metadata": {},
   "outputs": [],
   "source": [
    "#https://cloud.google.com/vision/docs/quickstart-client-libraries\n",
    "def detect_labels_uri(uri) -> list:\n",
    "    \"\"\"Detects labels in the file located in Google Cloud Storage or on the\n",
    "    Web.\"\"\"\n",
    "    credentials = service_account.Credentials.from_service_account_file('/home/jloesch30/.keys/ms3-unstruct-3159692ce6f1.json')\n",
    "\n",
    "    client = vision.ImageAnnotatorClient()\n",
    "    image = vision.Image()\n",
    "    image.source.image_uri = uri\n",
    "\n",
    "    response = client.label_detection(image=image)\n",
    "    labels = response.label_annotations\n",
    "\n",
    "    image_labels = [l.description for l in labels]\n",
    "    return image_labels\n",
    "\n",
    "    if response.error.message:\n",
    "        raise Exception(\n",
    "            '{}\\nFor more info on error messages, check: '\n",
    "            'https://cloud.google.com/apis/design/errors'.format(\n",
    "                response.error.message))"
   ]
  },
  {
   "cell_type": "code",
   "execution_count": 3,
   "metadata": {},
   "outputs": [],
   "source": [
    "posts_df = pd.read_csv(\"./posts_df.csv\")"
   ]
  },
  {
   "cell_type": "code",
   "execution_count": 4,
   "metadata": {},
   "outputs": [
    {
     "data": {
      "text/html": [
       "<div>\n",
       "<style scoped>\n",
       "    .dataframe tbody tr th:only-of-type {\n",
       "        vertical-align: middle;\n",
       "    }\n",
       "\n",
       "    .dataframe tbody tr th {\n",
       "        vertical-align: top;\n",
       "    }\n",
       "\n",
       "    .dataframe thead th {\n",
       "        text-align: right;\n",
       "    }\n",
       "</style>\n",
       "<table border=\"1\" class=\"dataframe\">\n",
       "  <thead>\n",
       "    <tr style=\"text-align: right;\">\n",
       "      <th></th>\n",
       "      <th>id</th>\n",
       "      <th>likes</th>\n",
       "      <th>caption</th>\n",
       "      <th>imageURL</th>\n",
       "    </tr>\n",
       "  </thead>\n",
       "  <tbody>\n",
       "    <tr>\n",
       "      <th>0</th>\n",
       "      <td>CWJOENGNxbJ</td>\n",
       "      <td>22066</td>\n",
       "      <td>Una splendida giornata #zarawoman</td>\n",
       "      <td>https://scontent-dfw5-1.cdninstagram.com/v/t51...</td>\n",
       "    </tr>\n",
       "    <tr>\n",
       "      <th>1</th>\n",
       "      <td>CWI6Mbjrxfi</td>\n",
       "      <td>27305</td>\n",
       "      <td>Una splendida giornata #zarawoman</td>\n",
       "      <td>https://scontent-dfw5-1.cdninstagram.com/v/t51...</td>\n",
       "    </tr>\n",
       "  </tbody>\n",
       "</table>\n",
       "</div>"
      ],
      "text/plain": [
       "            id  likes                            caption  \\\n",
       "0  CWJOENGNxbJ  22066  Una splendida giornata #zarawoman   \n",
       "1  CWI6Mbjrxfi  27305  Una splendida giornata #zarawoman   \n",
       "\n",
       "                                            imageURL  \n",
       "0  https://scontent-dfw5-1.cdninstagram.com/v/t51...  \n",
       "1  https://scontent-dfw5-1.cdninstagram.com/v/t51...  "
      ]
     },
     "execution_count": 4,
     "metadata": {},
     "output_type": "execute_result"
    }
   ],
   "source": [
    "posts_df.head(2)"
   ]
  },
  {
   "cell_type": "code",
   "execution_count": 28,
   "metadata": {},
   "outputs": [],
   "source": [
    "# image url's are not persistant :(\n",
    "# if you need to re-run this, you may need to scrape the images again due to the links having a timeout. You will recieve and error if\n",
    "# if that is the case\n",
    "all_labels = []\n",
    "for i in posts_df['imageURL']:\n",
    "    all_labels.append(detect_labels_uri(i))"
   ]
  },
  {
   "cell_type": "code",
   "execution_count": 29,
   "metadata": {},
   "outputs": [],
   "source": [
    "# add the image labels to their respective image\n",
    "posts_df['image_labels'] = all_labels"
   ]
  },
  {
   "cell_type": "code",
   "execution_count": 30,
   "metadata": {},
   "outputs": [
    {
     "data": {
      "text/html": [
       "<div>\n",
       "<style scoped>\n",
       "    .dataframe tbody tr th:only-of-type {\n",
       "        vertical-align: middle;\n",
       "    }\n",
       "\n",
       "    .dataframe tbody tr th {\n",
       "        vertical-align: top;\n",
       "    }\n",
       "\n",
       "    .dataframe thead th {\n",
       "        text-align: right;\n",
       "    }\n",
       "</style>\n",
       "<table border=\"1\" class=\"dataframe\">\n",
       "  <thead>\n",
       "    <tr style=\"text-align: right;\">\n",
       "      <th></th>\n",
       "      <th>id</th>\n",
       "      <th>likes</th>\n",
       "      <th>caption</th>\n",
       "      <th>imageURL</th>\n",
       "      <th>image_labels</th>\n",
       "    </tr>\n",
       "  </thead>\n",
       "  <tbody>\n",
       "    <tr>\n",
       "      <th>0</th>\n",
       "      <td>CWJOENGNxbJ</td>\n",
       "      <td>22066</td>\n",
       "      <td>Una splendida giornata #zarawoman</td>\n",
       "      <td>https://scontent-dfw5-1.cdninstagram.com/v/t51...</td>\n",
       "      <td>[Sky, Hat, People in nature, Happy, Sun hat, G...</td>\n",
       "    </tr>\n",
       "    <tr>\n",
       "      <th>1</th>\n",
       "      <td>CWI6Mbjrxfi</td>\n",
       "      <td>27305</td>\n",
       "      <td>Una splendida giornata #zarawoman</td>\n",
       "      <td>https://scontent-dfw5-1.cdninstagram.com/v/t51...</td>\n",
       "      <td>[Smile, Leg, Plant, Hat, Tree, People in natur...</td>\n",
       "    </tr>\n",
       "    <tr>\n",
       "      <th>2</th>\n",
       "      <td>CWIkys4tab0</td>\n",
       "      <td>32700</td>\n",
       "      <td>Una splendida giornata #zarawoman</td>\n",
       "      <td>https://scontent-dfw5-1.cdninstagram.com/v/t51...</td>\n",
       "      <td>[Smile, Sky, Happy, Flash photography, Travel,...</td>\n",
       "    </tr>\n",
       "    <tr>\n",
       "      <th>3</th>\n",
       "      <td>CWEFjRns7OQ</td>\n",
       "      <td>16500</td>\n",
       "      <td>Zara SRPLS Fall ‘21. Drop 02 now available #za...</td>\n",
       "      <td>https://scontent-dfw5-1.cdninstagram.com/v/t51...</td>\n",
       "      <td>[Clothing, Footwear, Joint, Outerwear, Leg, Hu...</td>\n",
       "    </tr>\n",
       "    <tr>\n",
       "      <th>4</th>\n",
       "      <td>CWDpGDmJ5mV</td>\n",
       "      <td>21484</td>\n",
       "      <td>Zara SRPLS Fall ‘21. Drop 02 now available #za...</td>\n",
       "      <td>https://scontent-dfw5-1.cdninstagram.com/v/t51...</td>\n",
       "      <td>[Forehead, Nose, Cheek, Chin, Eyebrow, Eyelash...</td>\n",
       "    </tr>\n",
       "  </tbody>\n",
       "</table>\n",
       "</div>"
      ],
      "text/plain": [
       "            id  likes                                            caption  \\\n",
       "0  CWJOENGNxbJ  22066                  Una splendida giornata #zarawoman   \n",
       "1  CWI6Mbjrxfi  27305                  Una splendida giornata #zarawoman   \n",
       "2  CWIkys4tab0  32700                  Una splendida giornata #zarawoman   \n",
       "3  CWEFjRns7OQ  16500  Zara SRPLS Fall ‘21. Drop 02 now available #za...   \n",
       "4  CWDpGDmJ5mV  21484  Zara SRPLS Fall ‘21. Drop 02 now available #za...   \n",
       "\n",
       "                                            imageURL  \\\n",
       "0  https://scontent-dfw5-1.cdninstagram.com/v/t51...   \n",
       "1  https://scontent-dfw5-1.cdninstagram.com/v/t51...   \n",
       "2  https://scontent-dfw5-1.cdninstagram.com/v/t51...   \n",
       "3  https://scontent-dfw5-1.cdninstagram.com/v/t51...   \n",
       "4  https://scontent-dfw5-1.cdninstagram.com/v/t51...   \n",
       "\n",
       "                                        image_labels  \n",
       "0  [Sky, Hat, People in nature, Happy, Sun hat, G...  \n",
       "1  [Smile, Leg, Plant, Hat, Tree, People in natur...  \n",
       "2  [Smile, Sky, Happy, Flash photography, Travel,...  \n",
       "3  [Clothing, Footwear, Joint, Outerwear, Leg, Hu...  \n",
       "4  [Forehead, Nose, Cheek, Chin, Eyebrow, Eyelash...  "
      ]
     },
     "execution_count": 30,
     "metadata": {},
     "output_type": "execute_result"
    }
   ],
   "source": [
    "posts_df.head()"
   ]
  },
  {
   "cell_type": "code",
   "execution_count": 32,
   "metadata": {},
   "outputs": [],
   "source": [
    "posts_df.to_csv('posts_with_image_labels.csv', index=False)"
   ]
  }
 ],
 "metadata": {
  "kernelspec": {
   "display_name": "Python 3 (ipykernel)",
   "language": "python",
   "name": "python3"
  },
  "language_info": {
   "codemirror_mode": {
    "name": "ipython",
    "version": 3
   },
   "file_extension": ".py",
   "mimetype": "text/x-python",
   "name": "python",
   "nbconvert_exporter": "python",
   "pygments_lexer": "ipython3",
   "version": "3.7.3"
  }
 },
 "nbformat": 4,
 "nbformat_minor": 4
}
